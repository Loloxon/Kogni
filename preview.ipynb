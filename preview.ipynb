{
 "cells": [
  {
   "cell_type": "code",
   "execution_count": 81,
   "outputs": [],
   "source": [
    "# path = \"./dataset/valid\"\n",
    "path = \"./dataset/train\""
   ],
   "metadata": {
    "collapsed": false,
    "ExecuteTime": {
     "end_time": "2024-03-13T23:07:32.944360700Z",
     "start_time": "2024-03-13T23:07:32.927457Z"
    }
   },
   "id": "c1dbb396b3485206"
  },
  {
   "cell_type": "code",
   "execution_count": 82,
   "outputs": [],
   "source": [
    "import json\n",
    " \n",
    "f = open(path+\"/_annotations.coco.json\")\n",
    "data = json.load(f)\n",
    " \n",
    "id_to_image_name = {}\n",
    "for image in data[\"images\"]:\n",
    "    id_to_image_name[image[\"id\"]] = image[\"file_name\"]\n",
    "\n",
    "image_name_to_annotations = {}\n",
    "for annotation in data[\"annotations\"]:\n",
    "    image_name_to_annotations[id_to_image_name[annotation[\"image_id\"]]] = annotation\n",
    "f.close()"
   ],
   "metadata": {
    "collapsed": false,
    "ExecuteTime": {
     "end_time": "2024-03-13T23:07:32.960566900Z",
     "start_time": "2024-03-13T23:07:32.940359700Z"
    }
   },
   "id": "d52ecf43ee5e75e2"
  },
  {
   "cell_type": "code",
   "execution_count": 83,
   "outputs": [],
   "source": [
    "def parse_to_images(image):\n",
    "    w, h = 512, 512\n",
    "    data = np.zeros((h, w, 3), dtype=np.uint8)\n",
    "    data[0:256, 0:256] = [255, 0, 0] # red patch in upper left\n",
    "    return Image.fromarray(image, 'RGB')"
   ],
   "metadata": {
    "collapsed": false,
    "ExecuteTime": {
     "end_time": "2024-03-13T23:07:32.975643900Z",
     "start_time": "2024-03-13T23:07:32.954924400Z"
    }
   },
   "id": "51ca98dc077db084"
  },
  {
   "cell_type": "code",
   "execution_count": 84,
   "outputs": [],
   "source": [
    "def show_top(images, start=0, end=10, annotations = None):\n",
    "    c = 0\n",
    "    for name, image in list(images.items())[start:end]:\n",
    "        fig, ax = plt.subplots()\n",
    "        ax.imshow(image)\n",
    "        plt.axis(False)\n",
    "        if annotations is not None and name in annotations.keys():\n",
    "            print(name[:6])\n",
    "            bbox = annotations[name][\"bbox\"]\n",
    "            rect = patches.Rectangle((bbox[0], bbox[1]), bbox[2], bbox[3], linewidth=1, edgecolor='r', facecolor='none')\n",
    "            ax.add_patch(rect)\n",
    "        plt.show()"
   ],
   "metadata": {
    "collapsed": false,
    "ExecuteTime": {
     "end_time": "2024-03-13T23:07:32.998823300Z",
     "start_time": "2024-03-13T23:07:32.972073600Z"
    }
   },
   "id": "cc662935d0f0d2d3"
  },
  {
   "cell_type": "code",
   "execution_count": 85,
   "outputs": [],
   "source": [
    "from PIL import Image\n",
    "import glob\n",
    "import numpy as np\n",
    "from matplotlib import pyplot as plt\n",
    "import matplotlib.patches as patches\n",
    " \n",
    "# images_arr = []\n",
    "# images_names = []\n",
    "images_arr = {}\n",
    "for f in glob.iglob(path+\"/*.jpg\"):\n",
    "    images_arr[f[16:]] = np.asarray(Image.open(f))\n",
    "    # images_arr.append(np.asarray(Image.open(f)))\n",
    "    # images_names.append(f[16:])\n",
    "# images_arr = np.array(images_arr)\n",
    "\n",
    "images = {}\n",
    "for name, image_arr in images_arr.items():\n",
    "    images[name] = parse_to_images(image_arr)\n",
    "\n",
    "start = 0\n",
    "end = 0\n",
    "show_top(images, start, end, image_name_to_annotations)"
   ],
   "metadata": {
    "collapsed": false,
    "ExecuteTime": {
     "end_time": "2024-03-13T23:07:33.576607900Z",
     "start_time": "2024-03-13T23:07:32.985774900Z"
    }
   },
   "id": "9f5801976c251943"
  }
 ],
 "metadata": {
  "kernelspec": {
   "display_name": "Python 3",
   "language": "python",
   "name": "python3"
  },
  "language_info": {
   "codemirror_mode": {
    "name": "ipython",
    "version": 2
   },
   "file_extension": ".py",
   "mimetype": "text/x-python",
   "name": "python",
   "nbconvert_exporter": "python",
   "pygments_lexer": "ipython2",
   "version": "2.7.6"
  }
 },
 "nbformat": 4,
 "nbformat_minor": 5
}
