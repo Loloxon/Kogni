{
 "cells": [
  {
   "cell_type": "code",
   "execution_count": 107,
   "outputs": [],
   "source": [
    "import random\n",
    "\n",
    "# path = \"./dataset/valid\"\n",
    "path = \"./dataset/train\""
   ],
   "metadata": {
    "collapsed": false,
    "ExecuteTime": {
     "end_time": "2024-04-24T21:14:09.870967300Z",
     "start_time": "2024-04-24T21:14:09.827413700Z"
    }
   },
   "id": "c1dbb396b3485206"
  },
  {
   "cell_type": "code",
   "execution_count": 108,
   "outputs": [],
   "source": [
    "import json\n",
    " \n",
    "f = open(path+\"/_annotations.coco.json\")\n",
    "data = json.load(f)\n",
    " \n",
    "id_to_image_name = {}\n",
    "for image in data[\"images\"]:\n",
    "    id_to_image_name[image[\"id\"]] = image[\"file_name\"]\n",
    "\n",
    "image_name_to_annotations = {}\n",
    "for annotation in data[\"annotations\"]:\n",
    "    image_name_to_annotations[id_to_image_name[annotation[\"image_id\"]]] = annotation\n",
    "f.close()"
   ],
   "metadata": {
    "collapsed": false,
    "ExecuteTime": {
     "end_time": "2024-04-24T21:14:09.909084800Z",
     "start_time": "2024-04-24T21:14:09.860964700Z"
    }
   },
   "id": "d52ecf43ee5e75e2"
  },
  {
   "cell_type": "code",
   "execution_count": 109,
   "outputs": [],
   "source": [
    "def parse_to_images(image):\n",
    "    w, h = 512, 512\n",
    "    data = np.zeros((h, w, 3), dtype=np.uint8)\n",
    "    data[0:256, 0:256] = [255, 0, 0] # red patch in upper left\n",
    "    return Image.fromarray(image, 'RGB')"
   ],
   "metadata": {
    "collapsed": false,
    "ExecuteTime": {
     "end_time": "2024-04-24T21:14:09.924595800Z",
     "start_time": "2024-04-24T21:14:09.911085200Z"
    }
   },
   "id": "51ca98dc077db084"
  },
  {
   "cell_type": "code",
   "execution_count": 110,
   "outputs": [],
   "source": [
    "\n",
    "\n",
    "def show_top(images, start=0, end=10, annotations = None):\n",
    "    for name, image in list(images.items())[start:end]:\n",
    "        fig, ax = plt.subplots()\n",
    "        ax.imshow(image)\n",
    "        plt.axis(False)\n",
    "        print(name[:6])\n",
    "        if annotations is not None and name in annotations.keys():\n",
    "            bbox = annotations[name][\"bbox\"]\n",
    "            rect = patches.Rectangle((bbox[0], bbox[1]), bbox[2], bbox[3], linewidth=1, edgecolor='r', facecolor='none')\n",
    "            ax.add_patch(rect)\n",
    "        plt.show()\n",
    "        \n",
    "        \n",
    "def show(image):\n",
    "    fig, ax = plt.subplots()\n",
    "    ax.imshow(image)\n",
    "    plt.axis(False)\n",
    "    plt.show()\n"
   ],
   "metadata": {
    "collapsed": false,
    "ExecuteTime": {
     "end_time": "2024-04-24T21:14:09.941107100Z",
     "start_time": "2024-04-24T21:14:09.928596500Z"
    }
   },
   "id": "cc662935d0f0d2d3"
  },
  {
   "cell_type": "code",
   "execution_count": 111,
   "outputs": [],
   "source": [
    "import csv\n",
    "\n",
    "\n",
    "def append_to_csv(name, csv_file = \"labels.csv\"):\n",
    "    with open(csv_file, mode='a', newline='') as file:\n",
    "        writer = csv.writer(file)\n",
    "        # Append the new data to the CSV file\n",
    "        writer.writerow([name + \";\"])"
   ],
   "metadata": {
    "collapsed": false,
    "ExecuteTime": {
     "end_time": "2024-04-24T21:14:09.955911500Z",
     "start_time": "2024-04-24T21:14:09.943107500Z"
    }
   },
   "id": "de60e82fa011a03e"
  },
  {
   "cell_type": "code",
   "execution_count": 112,
   "outputs": [],
   "source": [
    "from PIL import Image\n",
    "import glob\n",
    "import numpy as np\n",
    "from matplotlib import pyplot as plt\n",
    "import matplotlib.patches as patches\n",
    " \n",
    "# images_arr = []\n",
    "# images_names = []\n",
    "images_arr = {}\n",
    "for f in glob.iglob(path+\"/*.jpg\"):\n",
    "    images_arr[f[16:]] = np.asarray(Image.open(f))\n",
    "    \n",
    "    # images_arr.append(np.asarray(Image.open(f)))\n",
    "    # images_names.append(f[16:])\n",
    "# images_arr = np.array(images_arr)\n",
    "# print(images_arr)\n",
    "# print(images_arr[\"f1-184-_jpg.rf.751e0bd601848440ed76a3adf66661cb.jpg\"])\n",
    "\n",
    "images = {}\n",
    "for name, image_arr in images_arr.items():\n",
    "    images[name] = parse_to_images(image_arr)\n",
    "    # append_to_csv(name)\n",
    "\n",
    "start = 180\n",
    "end = 0\n",
    "show_top(images, start, end, image_name_to_annotations)"
   ],
   "metadata": {
    "collapsed": false,
    "ExecuteTime": {
     "end_time": "2024-04-24T21:14:11.070124700Z",
     "start_time": "2024-04-24T21:14:09.956910600Z"
    }
   },
   "id": "ee25ac2336fa2884"
  },
  {
   "cell_type": "code",
   "execution_count": 113,
   "outputs": [],
   "source": [
    "path = \"./dataset/allll\""
   ],
   "metadata": {
    "collapsed": false,
    "ExecuteTime": {
     "end_time": "2024-04-24T21:14:11.085892100Z",
     "start_time": "2024-04-24T21:14:11.077126200Z"
    }
   },
   "id": "2cdb54574146cf6a"
  },
  {
   "cell_type": "code",
   "execution_count": 131,
   "outputs": [],
   "source": [
    "from PIL import Image\n",
    "import glob\n",
    "import numpy as np\n",
    "from matplotlib import pyplot as plt\n",
    "import matplotlib.patches as patches\n",
    " \n",
    "# images_arr = []\n",
    "# images_names = []\n",
    "images_arr = {}\n",
    "for f in glob.iglob(path+\"/*.jpg\"):\n",
    "    images_arr[f[16:]] = np.asarray(Image.open(f).resize((640, 640)))\n",
    "    \n",
    "    # images_arr.append(np.asarray(Image.open(f)))\n",
    "    # images_names.append(f[16:])\n",
    "# images_arr = np.array(images_arr)\n",
    "# print(images_arr)\n",
    "# print(images_arr[\"f1-184-_jpg.rf.751e0bd601848440ed76a3adf66661cb.jpg\"].shape)\n",
    "# print(images_arr[\"image3-29_png.rf.7e106e85552da8b8e95dcb545629fba6.jpg\"].shape)\n",
    "\n",
    "images = {}\n",
    "for name, image_arr in images_arr.items():\n",
    "    images[name] = parse_to_images(image_arr)\n",
    "    # append_to_csv(name)\n",
    "\n",
    "start = 0\n",
    "end = 0\n",
    "# show_top(images, start, end, image_name_to_annotations)"
   ],
   "metadata": {
    "collapsed": false,
    "ExecuteTime": {
     "end_time": "2024-04-24T21:45:29.119036400Z",
     "start_time": "2024-04-24T21:45:25.810855500Z"
    }
   },
   "id": "9f5801976c251943"
  },
  {
   "cell_type": "code",
   "execution_count": 132,
   "outputs": [],
   "source": [
    "# !pip install -U scikit-learn scipy matplotlib"
   ],
   "metadata": {
    "collapsed": false,
    "ExecuteTime": {
     "end_time": "2024-04-24T21:45:29.134040400Z",
     "start_time": "2024-04-24T21:45:29.120036600Z"
    }
   },
   "id": "e2a3016cd6c9aaaf"
  },
  {
   "cell_type": "code",
   "execution_count": 133,
   "outputs": [],
   "source": [
    "# for f in glob.iglob(\"./dataset/good/*.jpg\"):\n",
    "#     print(f[15:]+\";4;3\")"
   ],
   "metadata": {
    "collapsed": false,
    "ExecuteTime": {
     "end_time": "2024-04-24T21:45:29.150043500Z",
     "start_time": "2024-04-24T21:45:29.135040Z"
    }
   },
   "id": "b63ccba1407f6b4b"
  },
  {
   "cell_type": "code",
   "execution_count": 144,
   "outputs": [],
   "source": [
    "import pandas as pd\n",
    "\n",
    "labels = pd.read_csv('some_labels.csv', sep=';') \n",
    "\n",
    "dataframe = pd.DataFrame({'image_name': labels[\"image_name\"],\n",
    "                          'image_arr': [images_arr[l] for l in labels[\"image_name\"]],\n",
    "                          'position_label': labels[\"position_label\"],\n",
    "                          'type_label': labels[\"type_label\"],\n",
    "                          'healthy_label': labels[\"healthy_label\"]})\n",
    " \n",
    "X = np.stack(dataframe[\"image_arr\"].apply(lambda x: np.array(x)).values)\n",
    "X_part = np.stack(dataframe[dataframe['healthy_label'] == 0][\"image_arr\"].apply(lambda x: np.array(x)).values)\n",
    "healthy_labels = np.array(dataframe[\"healthy_label\"])\n",
    "position_labels = np.array(dataframe[dataframe['healthy_label'] == 0][\"position_label\"])\n",
    "type_labels = np.array(dataframe[dataframe['healthy_label'] == 0][\"type_label\"])\n",
    "# print(X)"
   ],
   "metadata": {
    "collapsed": false,
    "ExecuteTime": {
     "end_time": "2024-04-24T22:01:44.328091700Z",
     "start_time": "2024-04-24T22:01:42.789013Z"
    }
   },
   "id": "99d79e1bf442fca3"
  },
  {
   "cell_type": "code",
   "execution_count": 149,
   "outputs": [
    {
     "name": "stderr",
     "output_type": "stream",
     "text": [
      "C:\\Studia\\8. sem\\Kogni\\.venv\\lib\\site-packages\\keras\\src\\layers\\convolutional\\base_conv.py:99: UserWarning: Do not pass an `input_shape`/`input_dim` argument to a layer. When using Sequential models, prefer using an `Input(shape)` object as the first layer in the model instead.\n",
      "  super().__init__(\n"
     ]
    },
    {
     "name": "stdout",
     "output_type": "stream",
     "text": [
      "Epoch 1/10\n",
      "\u001B[1m15/15\u001B[0m \u001B[32m━━━━━━━━━━━━━━━━━━━━\u001B[0m\u001B[37m\u001B[0m \u001B[1m69s\u001B[0m 4s/step - accuracy: 0.7564 - loss: 33.8213 - val_accuracy: 0.5983 - val_loss: 463.0885\n",
      "Epoch 2/10\n",
      "\u001B[1m15/15\u001B[0m \u001B[32m━━━━━━━━━━━━━━━━━━━━\u001B[0m\u001B[37m\u001B[0m \u001B[1m51s\u001B[0m 3s/step - accuracy: 0.9185 - loss: 15.0154 - val_accuracy: 0.5983 - val_loss: 353.7086\n",
      "Epoch 3/10\n",
      "\u001B[1m15/15\u001B[0m \u001B[32m━━━━━━━━━━━━━━━━━━━━\u001B[0m\u001B[37m\u001B[0m \u001B[1m51s\u001B[0m 3s/step - accuracy: 0.9350 - loss: 20.9208 - val_accuracy: 0.4957 - val_loss: 999.4251\n",
      "Epoch 4/10\n",
      "\u001B[1m15/15\u001B[0m \u001B[32m━━━━━━━━━━━━━━━━━━━━\u001B[0m\u001B[37m\u001B[0m \u001B[1m52s\u001B[0m 3s/step - accuracy: 0.9649 - loss: 4.9510 - val_accuracy: 0.6752 - val_loss: 569.1840\n",
      "Epoch 5/10\n",
      "\u001B[1m15/15\u001B[0m \u001B[32m━━━━━━━━━━━━━━━━━━━━\u001B[0m\u001B[37m\u001B[0m \u001B[1m51s\u001B[0m 3s/step - accuracy: 0.9428 - loss: 11.7488 - val_accuracy: 0.9060 - val_loss: 27.6225\n",
      "Epoch 6/10\n",
      "\u001B[1m15/15\u001B[0m \u001B[32m━━━━━━━━━━━━━━━━━━━━\u001B[0m\u001B[37m\u001B[0m \u001B[1m51s\u001B[0m 3s/step - accuracy: 0.9566 - loss: 6.9388 - val_accuracy: 0.5385 - val_loss: 1052.5745\n",
      "Epoch 7/10\n",
      "\u001B[1m15/15\u001B[0m \u001B[32m━━━━━━━━━━━━━━━━━━━━\u001B[0m\u001B[37m\u001B[0m \u001B[1m50s\u001B[0m 3s/step - accuracy: 0.9607 - loss: 4.9938 - val_accuracy: 0.7094 - val_loss: 430.4449\n",
      "Epoch 8/10\n",
      "\u001B[1m15/15\u001B[0m \u001B[32m━━━━━━━━━━━━━━━━━━━━\u001B[0m\u001B[37m\u001B[0m \u001B[1m50s\u001B[0m 3s/step - accuracy: 0.9599 - loss: 8.0899 - val_accuracy: 0.8034 - val_loss: 96.6548\n",
      "Epoch 9/10\n",
      "\u001B[1m15/15\u001B[0m \u001B[32m━━━━━━━━━━━━━━━━━━━━\u001B[0m\u001B[37m\u001B[0m \u001B[1m51s\u001B[0m 3s/step - accuracy: 0.9586 - loss: 9.2459 - val_accuracy: 0.7179 - val_loss: 406.3485\n",
      "Epoch 10/10\n",
      "\u001B[1m15/15\u001B[0m \u001B[32m━━━━━━━━━━━━━━━━━━━━\u001B[0m\u001B[37m\u001B[0m \u001B[1m52s\u001B[0m 3s/step - accuracy: 0.9716 - loss: 6.5496 - val_accuracy: 0.9231 - val_loss: 25.8947\n",
      "\u001B[1m4/4\u001B[0m \u001B[32m━━━━━━━━━━━━━━━━━━━━\u001B[0m\u001B[37m\u001B[0m \u001B[1m2s\u001B[0m 465ms/step - accuracy: 0.9390 - loss: 23.9702\n",
      "\n",
      "Test accuracy: 0.9230769276618958\n"
     ]
    }
   ],
   "source": [
    "import numpy as np\n",
    "from sklearn.model_selection import train_test_split\n",
    "from tensorflow.keras.models import Sequential\n",
    "from tensorflow.keras.layers import Conv2D, MaxPooling2D, Flatten, Dense, Dropout, BatchNormalization\n",
    "from tensorflow.keras import layers\n",
    "from tensorflow.keras import models\n",
    "\n",
    "\n",
    "num_classes = 2\n",
    "image_height = 640\n",
    "image_width = 640\n",
    "num_epochs = 10\n",
    "\n",
    "# Split data into training and testing sets\n",
    "X_train_position, X_test_position, y_train_position, y_test_position \\\n",
    "    = train_test_split(X, healthy_labels, test_size=0.2, random_state=42)\n",
    "\n",
    "model_healthy = models.Sequential([\n",
    "    # Convolutional layers\n",
    "    layers.Conv2D(32, (3, 3), activation='relu', input_shape=(image_height, image_width, 3)),\n",
    "    layers.MaxPooling2D((2, 2)),\n",
    "    layers.BatchNormalization(),\n",
    "    \n",
    "    layers.Conv2D(64, (3, 3), activation='relu'),\n",
    "    layers.MaxPooling2D((2, 2)),\n",
    "    layers.BatchNormalization(),\n",
    "    \n",
    "    # Flatten layer\n",
    "    layers.Flatten(),\n",
    "    \n",
    "    # Dense layers\n",
    "    layers.Dense(128, activation='relu'),\n",
    "    layers.Dropout(0.5),  # Add dropout for regularization\n",
    "    layers.Dense(64, activation='relu'),\n",
    "    \n",
    "    # Output layer\n",
    "    layers.Dense(num_classes, activation='softmax')  # num_classes is the number of output classes\n",
    "])\n",
    "\n",
    "# Compile the model\n",
    "model_healthy.compile(optimizer='adam',\n",
    "              loss='sparse_categorical_crossentropy',\n",
    "              metrics=['accuracy'])\n",
    "\n",
    "# Train the model\n",
    "history = model_healthy.fit(X_train_position, y_train_position,\n",
    "                             epochs=num_epochs, validation_data=(X_test_position, y_test_position))\n",
    "\n",
    "# Evaluate the model\n",
    "test_loss, test_acc = model_healthy.evaluate(X_test_position, y_test_position)\n",
    "print('\\nTest accuracy:', test_acc)\n",
    "# Save the entire model to a file"
   ],
   "metadata": {
    "collapsed": false,
    "ExecuteTime": {
     "end_time": "2024-04-24T22:23:06.754467Z",
     "start_time": "2024-04-24T22:14:11.699729800Z"
    }
   },
   "id": "7aaf3a1783252e9b"
  },
  {
   "cell_type": "code",
   "execution_count": 150,
   "outputs": [
    {
     "name": "stdout",
     "output_type": "stream",
     "text": [
      "Epoch 1/10\n",
      "\u001B[1m7/7\u001B[0m \u001B[32m━━━━━━━━━━━━━━━━━━━━\u001B[0m\u001B[37m\u001B[0m \u001B[1m44s\u001B[0m 5s/step - accuracy: 0.3120 - loss: 41.0295 - val_accuracy: 0.3455 - val_loss: 715.8165\n",
      "Epoch 2/10\n",
      "\u001B[1m7/7\u001B[0m \u001B[32m━━━━━━━━━━━━━━━━━━━━\u001B[0m\u001B[37m\u001B[0m \u001B[1m34s\u001B[0m 5s/step - accuracy: 0.4686 - loss: 37.2092 - val_accuracy: 0.3455 - val_loss: 1304.9324\n",
      "Epoch 3/10\n",
      "\u001B[1m7/7\u001B[0m \u001B[32m━━━━━━━━━━━━━━━━━━━━\u001B[0m\u001B[37m\u001B[0m \u001B[1m33s\u001B[0m 5s/step - accuracy: 0.5563 - loss: 44.8161 - val_accuracy: 0.3455 - val_loss: 1659.1017\n",
      "Epoch 4/10\n",
      "\u001B[1m7/7\u001B[0m \u001B[32m━━━━━━━━━━━━━━━━━━━━\u001B[0m\u001B[37m\u001B[0m \u001B[1m32s\u001B[0m 5s/step - accuracy: 0.5649 - loss: 36.5529 - val_accuracy: 0.3455 - val_loss: 1889.9705\n",
      "Epoch 5/10\n",
      "\u001B[1m7/7\u001B[0m \u001B[32m━━━━━━━━━━━━━━━━━━━━\u001B[0m\u001B[37m\u001B[0m \u001B[1m32s\u001B[0m 5s/step - accuracy: 0.6265 - loss: 42.0827 - val_accuracy: 0.3636 - val_loss: 1678.7710\n",
      "Epoch 6/10\n",
      "\u001B[1m7/7\u001B[0m \u001B[32m━━━━━━━━━━━━━━━━━━━━\u001B[0m\u001B[37m\u001B[0m \u001B[1m32s\u001B[0m 5s/step - accuracy: 0.6960 - loss: 23.7294 - val_accuracy: 0.4182 - val_loss: 710.3684\n",
      "Epoch 7/10\n",
      "\u001B[1m7/7\u001B[0m \u001B[32m━━━━━━━━━━━━━━━━━━━━\u001B[0m\u001B[37m\u001B[0m \u001B[1m32s\u001B[0m 5s/step - accuracy: 0.7062 - loss: 16.9863 - val_accuracy: 0.4727 - val_loss: 302.7549\n",
      "Epoch 8/10\n",
      "\u001B[1m7/7\u001B[0m \u001B[32m━━━━━━━━━━━━━━━━━━━━\u001B[0m\u001B[37m\u001B[0m \u001B[1m32s\u001B[0m 5s/step - accuracy: 0.6659 - loss: 26.5600 - val_accuracy: 0.4909 - val_loss: 411.9748\n",
      "Epoch 9/10\n",
      "\u001B[1m7/7\u001B[0m \u001B[32m━━━━━━━━━━━━━━━━━━━━\u001B[0m\u001B[37m\u001B[0m \u001B[1m33s\u001B[0m 5s/step - accuracy: 0.7955 - loss: 16.2328 - val_accuracy: 0.4545 - val_loss: 403.9351\n",
      "Epoch 10/10\n",
      "\u001B[1m7/7\u001B[0m \u001B[32m━━━━━━━━━━━━━━━━━━━━\u001B[0m\u001B[37m\u001B[0m \u001B[1m33s\u001B[0m 5s/step - accuracy: 0.7208 - loss: 13.7703 - val_accuracy: 0.6364 - val_loss: 175.3046\n",
      "\u001B[1m2/2\u001B[0m \u001B[32m━━━━━━━━━━━━━━━━━━━━\u001B[0m\u001B[37m\u001B[0m \u001B[1m1s\u001B[0m 547ms/step - accuracy: 0.6326 - loss: 180.6829\n",
      "\n",
      "Test accuracy: 0.6363636255264282\n"
     ]
    }
   ],
   "source": [
    "num_classes = 4\n",
    "\n",
    "# Split data into training and testing sets\n",
    "X_train_position, X_test_position, y_train_position, y_test_position \\\n",
    "    = train_test_split(X_part, position_labels, test_size=0.2, random_state=42)\n",
    "\n",
    "model_position = Sequential([\n",
    "    # Convolutional layers\n",
    "    Conv2D(32, (3, 3), activation='relu', input_shape=(image_height, image_width, 3)),\n",
    "    MaxPooling2D((2, 2)),\n",
    "    BatchNormalization(),\n",
    "    \n",
    "    Conv2D(64, (3, 3), activation='relu'),\n",
    "    MaxPooling2D((2, 2)),\n",
    "    BatchNormalization(),\n",
    "    \n",
    "    Conv2D(128, (3, 3), activation='relu'),\n",
    "    MaxPooling2D((2, 2)),\n",
    "    BatchNormalization(),\n",
    "    \n",
    "    Conv2D(256, (3, 3), activation='relu'),\n",
    "    MaxPooling2D((2, 2)),\n",
    "    BatchNormalization(),\n",
    "    \n",
    "    # Flatten layer\n",
    "    Flatten(),\n",
    "    \n",
    "    # Dense layers\n",
    "    Dense(512, activation='relu'),\n",
    "    Dropout(0.5),  # Add dropout for regularization\n",
    "    Dense(256, activation='relu'),\n",
    "    Dropout(0.5),\n",
    "    \n",
    "    # Output layer\n",
    "    Dense(num_classes, activation='softmax')  # num_classes is the number of output classes\n",
    "])\n",
    "\n",
    "# Compile the model\n",
    "model_position.compile(optimizer='adam',\n",
    "              loss='sparse_categorical_crossentropy',\n",
    "              metrics=['accuracy'])\n",
    "\n",
    "# Train the model\n",
    "history = model_position.fit(X_train_position, y_train_position,\n",
    "                             epochs=num_epochs, validation_data=(X_test_position, y_test_position))\n",
    "\n",
    "# Evaluate the model\n",
    "test_loss, test_acc = model_position.evaluate(X_test_position, y_test_position)\n",
    "print('\\nTest accuracy:', test_acc)\n",
    "# Save the entire model to a file"
   ],
   "metadata": {
    "collapsed": false,
    "ExecuteTime": {
     "end_time": "2024-04-24T22:28:51.884984900Z",
     "start_time": "2024-04-24T22:23:06.764634500Z"
    }
   },
   "id": "158cfd8f716e2e61"
  },
  {
   "cell_type": "code",
   "execution_count": 151,
   "outputs": [
    {
     "name": "stdout",
     "output_type": "stream",
     "text": [
      "Epoch 1/10\n",
      "\u001B[1m7/7\u001B[0m \u001B[32m━━━━━━━━━━━━━━━━━━━━\u001B[0m\u001B[37m\u001B[0m \u001B[1m36s\u001B[0m 5s/step - accuracy: 0.4457 - loss: 40.6399 - val_accuracy: 0.7636 - val_loss: 213.8915\n",
      "Epoch 2/10\n",
      "\u001B[1m7/7\u001B[0m \u001B[32m━━━━━━━━━━━━━━━━━━━━\u001B[0m\u001B[37m\u001B[0m \u001B[1m32s\u001B[0m 5s/step - accuracy: 0.5683 - loss: 41.2334 - val_accuracy: 0.7636 - val_loss: 601.2596\n",
      "Epoch 3/10\n",
      "\u001B[1m7/7\u001B[0m \u001B[32m━━━━━━━━━━━━━━━━━━━━\u001B[0m\u001B[37m\u001B[0m \u001B[1m33s\u001B[0m 5s/step - accuracy: 0.6776 - loss: 32.2068 - val_accuracy: 0.7636 - val_loss: 1483.3696\n",
      "Epoch 4/10\n",
      "\u001B[1m7/7\u001B[0m \u001B[32m━━━━━━━━━━━━━━━━━━━━\u001B[0m\u001B[37m\u001B[0m \u001B[1m32s\u001B[0m 5s/step - accuracy: 0.6609 - loss: 30.1301 - val_accuracy: 0.7636 - val_loss: 1316.5012\n",
      "Epoch 5/10\n",
      "\u001B[1m7/7\u001B[0m \u001B[32m━━━━━━━━━━━━━━━━━━━━\u001B[0m\u001B[37m\u001B[0m \u001B[1m32s\u001B[0m 5s/step - accuracy: 0.6620 - loss: 33.8419 - val_accuracy: 0.7636 - val_loss: 1010.9854\n",
      "Epoch 6/10\n",
      "\u001B[1m7/7\u001B[0m \u001B[32m━━━━━━━━━━━━━━━━━━━━\u001B[0m\u001B[37m\u001B[0m \u001B[1m33s\u001B[0m 5s/step - accuracy: 0.7604 - loss: 14.8826 - val_accuracy: 0.7636 - val_loss: 577.0956\n",
      "Epoch 7/10\n",
      "\u001B[1m7/7\u001B[0m \u001B[32m━━━━━━━━━━━━━━━━━━━━\u001B[0m\u001B[37m\u001B[0m \u001B[1m33s\u001B[0m 5s/step - accuracy: 0.6580 - loss: 22.8553 - val_accuracy: 0.7636 - val_loss: 378.8871\n",
      "Epoch 8/10\n",
      "\u001B[1m7/7\u001B[0m \u001B[32m━━━━━━━━━━━━━━━━━━━━\u001B[0m\u001B[37m\u001B[0m \u001B[1m32s\u001B[0m 5s/step - accuracy: 0.7339 - loss: 24.1462 - val_accuracy: 0.7636 - val_loss: 337.3092\n",
      "Epoch 9/10\n",
      "\u001B[1m7/7\u001B[0m \u001B[32m━━━━━━━━━━━━━━━━━━━━\u001B[0m\u001B[37m\u001B[0m \u001B[1m33s\u001B[0m 5s/step - accuracy: 0.7537 - loss: 16.1538 - val_accuracy: 0.7818 - val_loss: 108.4494\n",
      "Epoch 10/10\n",
      "\u001B[1m7/7\u001B[0m \u001B[32m━━━━━━━━━━━━━━━━━━━━\u001B[0m\u001B[37m\u001B[0m \u001B[1m32s\u001B[0m 5s/step - accuracy: 0.7850 - loss: 11.8696 - val_accuracy: 0.7636 - val_loss: 101.8880\n",
      "\u001B[1m2/2\u001B[0m \u001B[32m━━━━━━━━━━━━━━━━━━━━\u001B[0m\u001B[37m\u001B[0m \u001B[1m1s\u001B[0m 553ms/step - accuracy: 0.7695 - loss: 96.9331\n",
      "\n",
      "Test accuracy: 0.7636363506317139\n"
     ]
    }
   ],
   "source": [
    "num_classes = 3\n",
    "# Split data into training and testing sets\n",
    "X_train_type, X_test_type, y_train_type, y_test_type \\\n",
    "    = train_test_split(X_part, type_labels, test_size=0.2, random_state=42)\n",
    "\n",
    "# Define CNN model\n",
    "model_type = Sequential([\n",
    "    # Convolutional layers\n",
    "    Conv2D(32, (3, 3), activation='relu', input_shape=(image_height, image_width, 3)),\n",
    "    MaxPooling2D((2, 2)),\n",
    "    BatchNormalization(),\n",
    "    \n",
    "    Conv2D(64, (3, 3), activation='relu'),\n",
    "    MaxPooling2D((2, 2)),\n",
    "    BatchNormalization(),\n",
    "    \n",
    "    Conv2D(128, (3, 3), activation='relu'),\n",
    "    MaxPooling2D((2, 2)),\n",
    "    BatchNormalization(),\n",
    "    \n",
    "    Conv2D(256, (3, 3), activation='relu'),\n",
    "    MaxPooling2D((2, 2)),\n",
    "    BatchNormalization(),\n",
    "    \n",
    "    # Flatten layer\n",
    "    Flatten(),\n",
    "    \n",
    "    # Dense layers\n",
    "    Dense(512, activation='relu'),\n",
    "    Dropout(0.5),  # Add dropout for regularization\n",
    "    Dense(256, activation='relu'),\n",
    "    Dropout(0.5),\n",
    "    \n",
    "    # Output layer\n",
    "    Dense(num_classes, activation='softmax')  # num_classes is the number of output classes\n",
    "])\n",
    "\n",
    "# Compile the model\n",
    "model_type.compile(optimizer='adam',\n",
    "              loss='sparse_categorical_crossentropy',\n",
    "              metrics=['accuracy'])\n",
    "\n",
    "# Train the model\n",
    "history = model_type.fit(X_train_type, y_train_type,\n",
    "                         epochs=num_epochs, validation_data=(X_test_type, y_test_type))\n",
    "\n",
    "# Evaluate the model\n",
    "test_loss, test_acc = model_type.evaluate(X_test_type, y_test_type)\n",
    "print('\\nTest accuracy:', test_acc)\n",
    "# Save the entire model to a file\n"
   ],
   "metadata": {
    "collapsed": false,
    "ExecuteTime": {
     "end_time": "2024-04-24T22:34:21.566140600Z",
     "start_time": "2024-04-24T22:28:51.888985100Z"
    }
   },
   "id": "a3c103f753844361"
  },
  {
   "cell_type": "code",
   "execution_count": 158,
   "outputs": [],
   "source": [
    "# Save only the weights of the model\n",
    "model_healthy.save_weights(\"models/healthy_model_weights.weights.h5\")\n"
   ],
   "metadata": {
    "collapsed": false,
    "ExecuteTime": {
     "end_time": "2024-04-24T23:29:19.637243200Z",
     "start_time": "2024-04-24T23:29:14.457851900Z"
    }
   },
   "id": "d497192a28cee1b5"
  },
  {
   "cell_type": "code",
   "execution_count": 155,
   "outputs": [
    {
     "name": "stderr",
     "output_type": "stream",
     "text": [
      "WARNING:absl:You are saving your model as an HDF5 file via `model.save()` or `keras.saving.save_model(model)`. This file format is considered legacy. We recommend using instead the native Keras format, e.g. `model.save('my_model.keras')` or `keras.saving.save_model(model, 'my_model.keras')`. \n",
      "WARNING:absl:You are saving your model as an HDF5 file via `model.save()` or `keras.saving.save_model(model)`. This file format is considered legacy. We recommend using instead the native Keras format, e.g. `model.save('my_model.keras')` or `keras.saving.save_model(model, 'my_model.keras')`. \n",
      "WARNING:absl:You are saving your model as an HDF5 file via `model.save()` or `keras.saving.save_model(model)`. This file format is considered legacy. We recommend using instead the native Keras format, e.g. `model.save('my_model.keras')` or `keras.saving.save_model(model, 'my_model.keras')`. \n"
     ]
    }
   ],
   "source": [
    "model_healthy.save(\"models/healthy_model.h5\")\n",
    "model_type.save(\"models/type_model.h5\")\n",
    "model_position.save(\"models/position_model.h5\")"
   ],
   "metadata": {
    "collapsed": false,
    "ExecuteTime": {
     "end_time": "2024-04-24T22:36:28.294413500Z",
     "start_time": "2024-04-24T22:36:03.572055Z"
    }
   },
   "id": "6044f6fe0975024f"
  },
  {
   "cell_type": "code",
   "execution_count": 156,
   "outputs": [
    {
     "data": {
      "text/plain": "<Figure size 640x480 with 1 Axes>",
      "image/png": "[encoded data removed]"
     },
     "metadata": {},
     "output_type": "display_data"
    },
    {
     "name": "stdout",
     "output_type": "stream",
     "text": [
      "[[[[ 12  12  12]\n",
      "   [ 12  12  12]\n",
      "   [ 12  12  12]\n",
      "   ...\n",
      "   [ 11  11  11]\n",
      "   [ 11  11  11]\n",
      "   [ 11  11  11]]\n",
      "\n",
      "  [[ 12  12  12]\n",
      "   [ 12  12  12]\n",
      "   [ 12  12  12]\n",
      "   ...\n",
      "   [ 11  11  11]\n",
      "   [ 11  11  11]\n",
      "   [ 11  11  11]]\n",
      "\n",
      "  [[ 12  12  12]\n",
      "   [ 12  12  12]\n",
      "   [ 12  12  12]\n",
      "   ...\n",
      "   [ 11  11  11]\n",
      "   [ 11  11  11]\n",
      "   [ 11  11  11]]\n",
      "\n",
      "  ...\n",
      "\n",
      "  [[ 14  14  14]\n",
      "   [ 14  14  14]\n",
      "   [ 14  14  14]\n",
      "   ...\n",
      "   [ 93  93  93]\n",
      "   [ 94  94  94]\n",
      "   [ 97  97  97]]\n",
      "\n",
      "  [[ 14  14  14]\n",
      "   [ 14  14  14]\n",
      "   [ 14  14  14]\n",
      "   ...\n",
      "   [ 94  94  94]\n",
      "   [ 96  96  96]\n",
      "   [ 99  99  99]]\n",
      "\n",
      "  [[ 14  14  14]\n",
      "   [ 14  14  14]\n",
      "   [ 14  14  14]\n",
      "   ...\n",
      "   [ 95  95  95]\n",
      "   [ 97  97  97]\n",
      "   [100 100 100]]]]\n",
      "\u001B[1m1/1\u001B[0m \u001B[32m━━━━━━━━━━━━━━━━━━━━\u001B[0m\u001B[37m\u001B[0m \u001B[1m0s\u001B[0m 90ms/step\n",
      "\u001B[1m1/1\u001B[0m \u001B[32m━━━━━━━━━━━━━━━━━━━━\u001B[0m\u001B[37m\u001B[0m \u001B[1m0s\u001B[0m 78ms/step\n",
      "\u001B[1m1/1\u001B[0m \u001B[32m━━━━━━━━━━━━━━━━━━━━\u001B[0m\u001B[37m\u001B[0m \u001B[1m0s\u001B[0m 69ms/step\n",
      "Predicted: Uszkodzona dłoń.  Złamanie palca \n",
      "Expected: Uszkodzona dłoń.  Złamanie palca\n"
     ]
    }
   ],
   "source": [
    "import random\n",
    "\n",
    "label_healthy_dict = {0:\"Uszkodzona dłoń. \",1: \"Zdrowa dłoń.\"}\n",
    "label_position_dict = {0:\"palca\",1: \"dłoni\",2: \"nadgarstka\",3: \"wielokrotne\"}\n",
    "label_type_dict = {0:\"Złamanie\",1: \"Przesunięcie\",2: \"Stłuczenie\"}\n",
    "\n",
    "# id = 1\n",
    "for i in range(1):\n",
    "    id = random.randint(0, len(X_test_position))\n",
    "    example_input = X_test_position[id]\n",
    "    show(example_input)\n",
    "    example_input = np.expand_dims(example_input, axis=0)\n",
    "    \n",
    "    print(example_input)\n",
    "    predictions_healthy = model_healthy.predict(example_input)\n",
    "    predicted_label_healthy = np.argmax(predictions_healthy)\n",
    "    \n",
    "    predictions_position = model_position.predict(example_input)\n",
    "    predicted_label_position = np.argmax(predictions_position)\n",
    "    \n",
    "    predictions_type = model_type.predict(example_input)\n",
    "    predicted_label_type= np.argmax(predictions_type)\n",
    "    \n",
    "    print(\"Predicted:\", label_healthy_dict[predicted_label_healthy], label_type_dict[predicted_label_type], label_position_dict[predicted_label_position], \n",
    "          \"\\nExpected:\", label_healthy_dict[predicted_label_healthy], label_type_dict[y_test_type[id]], label_position_dict[y_test_position[id]])"
   ],
   "metadata": {
    "collapsed": false,
    "ExecuteTime": {
     "end_time": "2024-04-24T22:41:28.575773300Z",
     "start_time": "2024-04-24T22:41:28.171064400Z"
    }
   },
   "id": "82b31f8998ab97bf"
  }
 ],
 "metadata": {
  "kernelspec": {
   "display_name": "Python 3",
   "language": "python",
   "name": "python3"
  },
  "language_info": {
   "codemirror_mode": {
    "name": "ipython",
    "version": 2
   },
   "file_extension": ".py",
   "mimetype": "text/x-python",
   "name": "python",
   "nbconvert_exporter": "python",
   "pygments_lexer": "ipython2",
   "version": "2.7.6"
  }
 },
 "nbformat": 4,
 "nbformat_minor": 5
}
